{
 "cells": [
  {
   "cell_type": "markdown",
   "metadata": {},
   "source": [
    "The string \"PAYPALISHIRING\" is written in a zigzag pattern on a given number of rows like this: (you may want to display this pattern in a fixed font for better legibility)\n",
    "\n",
    "`P   A   H   N`\n",
    "\n",
    "`A P L S I I G`\n",
    "\n",
    "`Y   I   R`\n",
    "\n",
    "And then read line by line: \"`PAHNAPLSIIGYIR`\"\n",
    "\n",
    "Write the code that will take a string and make this conversion given a number of rows:\n",
    "\n",
    "`string convert(string s, int numRows);`\n",
    "\n",
    "**Example 1:**\n",
    "\n",
    "`Input: s = \"PAYPALISHIRING\", numRows = 3`\n",
    "\n",
    "`Output: \"PAHNAPLSIIGYIR\"`\n",
    "\n",
    "**Example 2:**\n",
    "\n",
    "`Input: s = \"PAYPALISHIRING\", numRows = 4`\n",
    "\n",
    "`Output: \"PINALSIGYAHRPI\"`\n",
    "\n",
    "`Explanation:`\n",
    "\n",
    "`P     I    N`\n",
    "\n",
    "`A   L S  I G`\n",
    "\n",
    "`Y A   H R`\n",
    "\n",
    "`P     I`\n"
   ]
  },
  {
   "cell_type": "code",
   "execution_count": 47,
   "metadata": {},
   "outputs": [
    {
     "name": "stdout",
     "output_type": "stream",
     "text": [
      "True\n",
      "True\n"
     ]
    },
    {
     "data": {
      "text/plain": [
       "'AGMBFHLNCEIKODJP'"
      ]
     },
     "execution_count": 47,
     "metadata": {},
     "output_type": "execute_result"
    }
   ],
   "source": [
    "def convert(s, numRows):\n",
    "    \"\"\"\n",
    "    :type s: str\n",
    "    :type numRows: int\n",
    "    :rtype: str\n",
    "    \"\"\"\n",
    "    \n",
    "    l_spaces = 0\n",
    "    r_spaces = 0\n",
    "    \n",
    "    counter = 0\n",
    "    s1 = ''\n",
    "\n",
    "    for ix in range(len(s)):\n",
    "        \n",
    "        if counter != 0  and counter % numRows == 0:\n",
    "            r_spaces += 1\n",
    "            l_spaces = numRows - r_spaces - 1\n",
    "            \n",
    "            if l_spaces != 0:\n",
    "                s1 = s1 + l_spaces*' ' + s[ix] + r_spaces*' '\n",
    "            else:\n",
    "                r_spaces = 0\n",
    "                \n",
    "        if l_spaces == 0:\n",
    "            s1 = s1+s[ix]\n",
    "            counter+=1\n",
    "        \n",
    "    \n",
    "    s_dict = {k:'' for k in range(numRows)}\n",
    "    \n",
    "    s = s1\n",
    "    for ix in range(len(s)):\n",
    "        key = (ix) % (numRows)\n",
    "        s_dict[key]=s_dict[key] + s[ix]\n",
    "    \n",
    "    s1 = ''.join(s_dict.values())\n",
    "    s1 = ''.join(s1.split())\n",
    "    \n",
    "    return s1\n",
    "    \n",
    "print(convert('PAYPALISHIRING',4) == \"PINALSIGYAHRPI\")\n",
    "print(convert('PAYPALISHIRING',3) == \"PAHNAPLSIIGYIR\")\n",
    "\"PAHNAPLSIIGYIR\"\n",
    "convert('ABCDEFGHIJKLMNOP',4)\n",
    "        "
   ]
  },
  {
   "cell_type": "code",
   "execution_count": 11,
   "metadata": {},
   "outputs": [
    {
     "data": {
      "text/plain": [
       "{1: 0, 2: 0, 3: 0, 4: 0}"
      ]
     },
     "execution_count": 11,
     "metadata": {},
     "output_type": "execute_result"
    }
   ],
   "source": [
    "s_dict = {k:0 for k in range(1, 4+1)}\n",
    "s_dict"
   ]
  },
  {
   "cell_type": "code",
   "execution_count": 48,
   "metadata": {},
   "outputs": [
    {
     "name": "stdout",
     "output_type": "stream",
     "text": [
      "False\n"
     ]
    }
   ],
   "source": [
    "def convert(s, numRows):\n",
    "        if numRows == 1:\n",
    "            return s\n",
    "        rows = [''] * numRows\n",
    "        cur_row, down = 0, 0\n",
    "\n",
    "        for c in s:\n",
    "            rows[cur_row] += c\n",
    "\n",
    "print(convert('PAYPALISHIRING',4) == \"PINALSIGYAHRPI\")"
   ]
  },
  {
   "cell_type": "code",
   "execution_count": null,
   "metadata": {},
   "outputs": [],
   "source": []
  }
 ],
 "metadata": {
  "kernelspec": {
   "display_name": "Python 3",
   "language": "python",
   "name": "python3"
  },
  "language_info": {
   "codemirror_mode": {
    "name": "ipython",
    "version": 3
   },
   "file_extension": ".py",
   "mimetype": "text/x-python",
   "name": "python",
   "nbconvert_exporter": "python",
   "pygments_lexer": "ipython3",
   "version": "3.7.5"
  }
 },
 "nbformat": 4,
 "nbformat_minor": 2
}
