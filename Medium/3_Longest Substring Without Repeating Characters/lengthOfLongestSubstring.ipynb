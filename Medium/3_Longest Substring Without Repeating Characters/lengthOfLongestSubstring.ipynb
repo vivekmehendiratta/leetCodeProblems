{
 "cells": [
  {
   "cell_type": "markdown",
   "metadata": {},
   "source": [
    "# Related Topics:\n",
    "- Hash Table\n",
    "- Two Pointers\n",
    "- String\n",
    "- Sliding Window"
   ]
  },
  {
   "cell_type": "code",
   "execution_count": 5,
   "metadata": {},
   "outputs": [],
   "source": [
    "def lengthOfLongestSubstring(s):\n",
    "    \"\"\"\n",
    "    :type s: str\n",
    "    :rtype: int\n",
    "    \"\"\"\n",
    "\n",
    "    current_sub = ''\n",
    "    result = 0\n",
    "    for c in s:\n",
    "        if c not in current_sub:\n",
    "            current_sub = current_sub + c\n",
    "        else:\n",
    "            if len(current_sub) > result:\n",
    "                result = len(current_sub)\n",
    "            ix = current_sub.find(c)\n",
    "            current_sub = current_sub[ix+1:] + c\n",
    "\n",
    "    if(len(current_sub) > result):\n",
    "        result = len(current_sub)\n",
    "\n",
    "    return result"
   ]
  },
  {
   "cell_type": "code",
   "execution_count": 6,
   "metadata": {},
   "outputs": [
    {
     "data": {
      "text/plain": [
       "3"
      ]
     },
     "execution_count": 6,
     "metadata": {},
     "output_type": "execute_result"
    }
   ],
   "source": [
    "lengthOfLongestSubstring(\"abcabcbb\")"
   ]
  },
  {
   "cell_type": "code",
   "execution_count": null,
   "metadata": {},
   "outputs": [],
   "source": []
  }
 ],
 "metadata": {
  "kernelspec": {
   "display_name": "Python 3",
   "language": "python",
   "name": "python3"
  },
  "language_info": {
   "codemirror_mode": {
    "name": "ipython",
    "version": 3
   },
   "file_extension": ".py",
   "mimetype": "text/x-python",
   "name": "python",
   "nbconvert_exporter": "python",
   "pygments_lexer": "ipython3",
   "version": "3.7.5"
  }
 },
 "nbformat": 4,
 "nbformat_minor": 2
}
