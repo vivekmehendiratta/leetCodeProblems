{
 "cells": [
  {
   "cell_type": "markdown",
   "metadata": {},
   "source": [
    "# Related Topics:\n",
    "- String\n",
    "- Dynamic Programming"
   ]
  },
  {
   "cell_type": "markdown",
   "metadata": {},
   "source": [
    "**Problem Statement:** \n",
    "Given a string **s**, find the longest palindromic substring in **s**. You may assume that the maximum length of s is 1000."
   ]
  },
  {
   "cell_type": "markdown",
   "metadata": {},
   "source": [
    "**Example 1:**\n",
    "\n",
    "    Input: \"babad\"\n",
    "    Output: \"bab\"\n",
    "    Note: \"aba\" is also a valid answer.\n",
    "\n",
    "**Example 2:**\n",
    "\n",
    "    Input: \"cbbd\"\n",
    "    Output: \"bb\"\n"
   ]
  },
  {
   "cell_type": "code",
   "execution_count": 16,
   "metadata": {},
   "outputs": [
    {
     "data": {
      "text/plain": [
       "'bab'"
      ]
     },
     "execution_count": 16,
     "metadata": {},
     "output_type": "execute_result"
    }
   ],
   "source": [
    "def longestPalindromeBruteForce(s):\n",
    "    \"\"\"\n",
    "    :type s: str\n",
    "    :rtype: str\n",
    "    \"\"\"\n",
    "    \n",
    "    res = ''\n",
    "    for i in range(len(s)):\n",
    "        j = 0\n",
    "        while j<=i:\n",
    "            a = s[j:i+1]\n",
    "            if a==a[::-1] and len(a) > len(res):\n",
    "                res = a\n",
    "            j+=1\n",
    "    return res\n",
    "longestPalindromeBruteForce(\"babad\")    "
   ]
  },
  {
   "cell_type": "markdown",
   "metadata": {},
   "source": [
    "**Time Complexity for Brute Force Solution:** O(n^3)"
   ]
  },
  {
   "cell_type": "code",
   "execution_count": 98,
   "metadata": {},
   "outputs": [],
   "source": [
    "def longestPalindrome(s):\n",
    "    \"\"\"\n",
    "    :type s: str\n",
    "    :rtype: str\n",
    "    \"\"\"\n",
    "    if not s:\n",
    "        return ''\n",
    "    \n",
    "    res = s[0]\n",
    "    start = 0\n",
    "    end = 0\n",
    "    for i in range(len(s)):\n",
    "        print('i - {}'.format(i))\n",
    "        len1 = expand(s, i, i)\n",
    "        len2 = expand(s, i, i+1)\n",
    "        l = max(len1, len2)\n",
    "        \n",
    "        print(l)\n",
    "        if(l > (end - start)):\n",
    "            print(True)\n",
    "            start = i - (l-1)//2\n",
    "            end = i + (l) // 2\n",
    "        print('start - {} end - {}'.format(start, end))\n",
    "    return s[start:end+1]\n",
    "\n",
    "\n",
    "def expand(s, left, right):\n",
    "    if (s == None) or (left > right):\n",
    "        return 0\n",
    "    \n",
    "    while left >=0 and right < len(s) and s[left] == s[right]:\n",
    "        left-=1\n",
    "        right+=1\n",
    "    \n",
    "    return right - left - 1\n",
    "    "
   ]
  },
  {
   "cell_type": "code",
   "execution_count": 99,
   "metadata": {},
   "outputs": [
    {
     "name": "stdout",
     "output_type": "stream",
     "text": [
      "i - 0\n",
      "1\n",
      "True\n",
      "start - 0 end - 0\n",
      "i - 1\n",
      "3\n",
      "True\n",
      "start - 0 end - 2\n",
      "i - 2\n",
      "3\n",
      "True\n",
      "start - 1 end - 3\n",
      "i - 3\n",
      "1\n",
      "start - 1 end - 3\n",
      "i - 4\n",
      "1\n",
      "start - 1 end - 3\n"
     ]
    },
    {
     "data": {
      "text/plain": [
       "'aba'"
      ]
     },
     "execution_count": 99,
     "metadata": {},
     "output_type": "execute_result"
    }
   ],
   "source": [
    "longestPalindrome(\"babad\")"
   ]
  },
  {
   "cell_type": "markdown",
   "metadata": {},
   "source": [
    "**Time Complexity for the current solution:** O(n^2)"
   ]
  },
  {
   "cell_type": "code",
   "execution_count": null,
   "metadata": {},
   "outputs": [],
   "source": []
  }
 ],
 "metadata": {
  "kernelspec": {
   "display_name": "Python 3",
   "language": "python",
   "name": "python3"
  },
  "language_info": {
   "codemirror_mode": {
    "name": "ipython",
    "version": 3
   },
   "file_extension": ".py",
   "mimetype": "text/x-python",
   "name": "python",
   "nbconvert_exporter": "python",
   "pygments_lexer": "ipython3",
   "version": "3.7.5"
  }
 },
 "nbformat": 4,
 "nbformat_minor": 2
}
