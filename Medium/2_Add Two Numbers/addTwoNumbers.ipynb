{
 "cells": [
  {
   "cell_type": "markdown",
   "metadata": {},
   "source": [
    "# Related Topics:\n",
    "- Linked List\n",
    "- Math"
   ]
  },
  {
   "cell_type": "code",
   "execution_count": 2,
   "metadata": {},
   "outputs": [],
   "source": [
    "def addTwoNumbers(l1, l2, c = 0):\n",
    "    \"\"\"\n",
    "    :type l1: ListNode\n",
    "    :type l2: ListNode\n",
    "    :rtype: ListNode\n",
    "    \"\"\"\n",
    "\n",
    "    res = l1.val + l2.val + c\n",
    "    c = res // 10\n",
    "    result = ListNode(res % 10)\n",
    "\n",
    "    if (l1.next != None or l2.next != None or c!=0):\n",
    "        if(l1.next == None):\n",
    "            l1.next = ListNode(0)\n",
    "        if(l2.next == None):\n",
    "            l2.next = ListNode(0)\n",
    "\n",
    "        result.next = self.addTwoNumbers(l1.next, l2.next, c)\n",
    "\n",
    "    return result"
   ]
  },
  {
   "cell_type": "code",
   "execution_count": null,
   "metadata": {},
   "outputs": [],
   "source": []
  }
 ],
 "metadata": {
  "kernelspec": {
   "display_name": "Python 3",
   "language": "python",
   "name": "python3"
  },
  "language_info": {
   "codemirror_mode": {
    "name": "ipython",
    "version": 3
   },
   "file_extension": ".py",
   "mimetype": "text/x-python",
   "name": "python",
   "nbconvert_exporter": "python",
   "pygments_lexer": "ipython3",
   "version": "3.7.5"
  }
 },
 "nbformat": 4,
 "nbformat_minor": 2
}
